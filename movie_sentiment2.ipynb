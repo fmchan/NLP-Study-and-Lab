{
 "cells": [
  {
   "cell_type": "code",
   "execution_count": 1,
   "source": [
    "import pandas as pd\r\n",
    "import re\r\n",
    "import nltk\r\n",
    "from nltk.corpus import stopwords\r\n",
    "\r\n",
    "from numpy import array\r\n",
    "from numpy import asarray\r\n",
    "from numpy import zeros\r\n",
    "from keras.preprocessing.sequence import pad_sequences\r\n",
    "from keras.models import Sequential\r\n",
    "from keras.layers.core import Activation, Dropout, Dense\r\n",
    "from keras.layers import Flatten\r\n",
    "from keras.layers.convolutional import Conv1D\r\n",
    "from keras.layers import LSTM\r\n",
    "from keras.layers import GlobalMaxPooling1D\r\n",
    "from keras.layers.embeddings import Embedding\r\n",
    "from sklearn.model_selection import train_test_split\r\n",
    "from keras.preprocessing.text import Tokenizer\r\n",
    "\r\n",
    "import matplotlib.pyplot as plt\r\n",
    "import seaborn as sns\r\n"
   ],
   "outputs": [],
   "metadata": {}
  },
  {
   "cell_type": "code",
   "execution_count": 2,
   "source": [
    "movie_reviews = pd.read_csv(\"IMDB Dataset.csv\")\r\n",
    "\r\n",
    "movie_reviews.isnull().values.any()\r\n",
    "\r\n",
    "movie_reviews.shape"
   ],
   "outputs": [
    {
     "output_type": "execute_result",
     "data": {
      "text/plain": [
       "(50000, 2)"
      ]
     },
     "metadata": {},
     "execution_count": 2
    }
   ],
   "metadata": {}
  },
  {
   "cell_type": "code",
   "execution_count": 3,
   "source": [
    "def preprocess_text(sen):\r\n",
    "    # Removing html tags\r\n",
    "    sentence = remove_tags(sen)\r\n",
    "\r\n",
    "    # Remove punctuations and numbers\r\n",
    "    sentence = re.sub('[^a-zA-Z]', ' ', sentence)\r\n",
    "\r\n",
    "    # Single character removal\r\n",
    "    sentence = re.sub(r\"\\s+[a-zA-Z]\\s+\", ' ', sentence)\r\n",
    "\r\n",
    "    # Removing multiple spaces\r\n",
    "    sentence = re.sub(r'\\s+', ' ', sentence)\r\n",
    "\r\n",
    "    return sentence\r\n",
    "\r\n",
    "TAG_RE = re.compile(r'<[^>]+>')\r\n",
    "\r\n",
    "def remove_tags(text):\r\n",
    "    return TAG_RE.sub('', text)"
   ],
   "outputs": [],
   "metadata": {}
  },
  {
   "cell_type": "code",
   "execution_count": 4,
   "source": [
    "X = []\r\n",
    "sentences = list(movie_reviews['review'])\r\n",
    "for sen in sentences:\r\n",
    "    X.append(preprocess_text(sen))"
   ],
   "outputs": [],
   "metadata": {}
  },
  {
   "cell_type": "code",
   "execution_count": 5,
   "source": [
    "X[3]"
   ],
   "outputs": [
    {
     "output_type": "execute_result",
     "data": {
      "text/plain": [
       "'Basically there a family where little boy Jake thinks there a zombie in his closet his parents are fighting all the time This movie is slower than soap opera and suddenly Jake decides to become Rambo and kill the zombie OK first of all when you re going to make film you must Decide if its thriller or drama As drama the movie is watchable Parents are divorcing arguing like in real life And then we have Jake with his closet which totally ruins all the film expected to see BOOGEYMAN similar movie and instead watched drama with some meaningless thriller spots out of just for the well playing parents descent dialogs As for the shots with Jake just ignore them '"
      ]
     },
     "metadata": {},
     "execution_count": 5
    }
   ],
   "metadata": {}
  },
  {
   "cell_type": "code",
   "execution_count": 6,
   "source": [
    "y = movie_reviews['sentiment']\r\n",
    "\r\n",
    "y = array(list(map(lambda x: 1 if x==\"positive\" else 0, y)))\r\n",
    "\r\n",
    "X_train, X_test, y_train, y_test = train_test_split(X, y, test_size=0.20, random_state=42)"
   ],
   "outputs": [],
   "metadata": {}
  },
  {
   "cell_type": "code",
   "execution_count": 7,
   "source": [
    "tokenizer = Tokenizer(num_words=5000)\r\n",
    "tokenizer.fit_on_texts(X_train)\r\n",
    "\r\n",
    "X_train = tokenizer.texts_to_sequences(X_train)\r\n",
    "X_test = tokenizer.texts_to_sequences(X_test)"
   ],
   "outputs": [],
   "metadata": {}
  },
  {
   "cell_type": "code",
   "execution_count": 8,
   "source": [
    "# Adding 1 because of reserved 0 index\r\n",
    "vocab_size = len(tokenizer.word_index) + 1\r\n",
    "\r\n",
    "maxlen = 100\r\n",
    "\r\n",
    "X_train = pad_sequences(X_train, padding='post', maxlen=maxlen)\r\n",
    "X_test = pad_sequences(X_test, padding='post', maxlen=maxlen)"
   ],
   "outputs": [],
   "metadata": {}
  },
  {
   "cell_type": "code",
   "execution_count": 9,
   "source": [
    "embeddings_dictionary = dict()\r\n",
    "glove_file = open('glove.6B.100d.txt', encoding=\"utf8\")\r\n",
    "\r\n",
    "for line in glove_file:\r\n",
    "    records = line.split()\r\n",
    "    word = records[0]\r\n",
    "    vector_dimensions = asarray(records[1:], dtype='float32')\r\n",
    "    embeddings_dictionary [word] = vector_dimensions\r\n",
    "glove_file.close()"
   ],
   "outputs": [],
   "metadata": {}
  },
  {
   "cell_type": "code",
   "execution_count": 10,
   "source": [
    "embedding_matrix = zeros((vocab_size, 100))\r\n",
    "for word, index in tokenizer.word_index.items():\r\n",
    "    embedding_vector = embeddings_dictionary.get(word)\r\n",
    "    if embedding_vector is not None:\r\n",
    "        embedding_matrix[index] = embedding_vector"
   ],
   "outputs": [],
   "metadata": {}
  },
  {
   "cell_type": "code",
   "execution_count": 11,
   "source": [
    "model = Sequential()\r\n",
    "embedding_layer = Embedding(vocab_size, 100, weights=[embedding_matrix], input_length=maxlen , trainable=False)\r\n",
    "model.add(embedding_layer)\r\n",
    "model.add(LSTM(128))\r\n",
    "model.add(Dense(1, activation='sigmoid'))\r\n",
    "\r\n",
    "model.compile(optimizer='adam', loss='binary_crossentropy', metrics=['acc'])\r\n",
    "\r\n",
    "print(model.summary())"
   ],
   "outputs": [
    {
     "output_type": "stream",
     "name": "stdout",
     "text": [
      "Model: \"sequential\"\n",
      "_________________________________________________________________\n",
      "Layer (type)                 Output Shape              Param #   \n",
      "=================================================================\n",
      "embedding (Embedding)        (None, 100, 100)          9254700   \n",
      "_________________________________________________________________\n",
      "lstm (LSTM)                  (None, 128)               117248    \n",
      "_________________________________________________________________\n",
      "dense (Dense)                (None, 1)                 129       \n",
      "=================================================================\n",
      "Total params: 9,372,077\n",
      "Trainable params: 117,377\n",
      "Non-trainable params: 9,254,700\n",
      "_________________________________________________________________\n",
      "None\n"
     ]
    }
   ],
   "metadata": {}
  },
  {
   "cell_type": "code",
   "execution_count": 12,
   "source": [
    "history = model.fit(X_train, y_train, batch_size=128, epochs=6, verbose=1, validation_split=0.2)\r\n",
    "\r\n",
    "score = model.evaluate(X_test, y_test, verbose=1)\r\n",
    "\r\n",
    "print(\"Test Score:\", score[0])\r\n",
    "print(\"Test Accuracy:\", score[1])"
   ],
   "outputs": [
    {
     "output_type": "stream",
     "name": "stdout",
     "text": [
      "Epoch 1/6\n",
      "250/250 [==============================] - 35s 133ms/step - loss: 0.5567 - acc: 0.7083 - val_loss: 0.4681 - val_acc: 0.7828\n",
      "Epoch 2/6\n",
      "250/250 [==============================] - 33s 131ms/step - loss: 0.4482 - acc: 0.7883 - val_loss: 0.4114 - val_acc: 0.8111\n",
      "Epoch 3/6\n",
      "250/250 [==============================] - 33s 132ms/step - loss: 0.4033 - acc: 0.8159 - val_loss: 0.3839 - val_acc: 0.8239\n",
      "Epoch 4/6\n",
      "250/250 [==============================] - 33s 133ms/step - loss: 0.3697 - acc: 0.8335 - val_loss: 0.3590 - val_acc: 0.8428\n",
      "Epoch 5/6\n",
      "250/250 [==============================] - 34s 136ms/step - loss: 0.3522 - acc: 0.8446 - val_loss: 0.3463 - val_acc: 0.8451\n",
      "Epoch 6/6\n",
      "250/250 [==============================] - 34s 137ms/step - loss: 0.3346 - acc: 0.8532 - val_loss: 0.3838 - val_acc: 0.8294\n",
      "313/313 [==============================] - 8s 25ms/step - loss: 0.3825 - acc: 0.8252\n",
      "Test Score: 0.3824569582939148\n",
      "Test Accuracy: 0.8252000212669373\n"
     ]
    }
   ],
   "metadata": {}
  },
  {
   "cell_type": "code",
   "execution_count": 13,
   "source": [
    "plt.plot(history.history['acc'])\r\n",
    "plt.plot(history.history['val_acc'])\r\n",
    "\r\n",
    "plt.title('model accuracy')\r\n",
    "plt.ylabel('accuracy')\r\n",
    "plt.xlabel('epoch')\r\n",
    "plt.legend(['train','test'], loc='upper left')\r\n",
    "plt.show()\r\n",
    "\r\n",
    "plt.plot(history.history['loss'])\r\n",
    "plt.plot(history.history['val_loss'])\r\n",
    "\r\n",
    "plt.title('model loss')\r\n",
    "plt.ylabel('loss')\r\n",
    "plt.xlabel('epoch')\r\n",
    "plt.legend(['train','test'], loc='upper left')\r\n",
    "plt.show()"
   ],
   "outputs": [
    {
     "output_type": "display_data",
     "data": {
      "image/png": "[encoded data removed]",
      "text/plain": [
       "<Figure size 432x288 with 1 Axes>"
      ]
     },
     "metadata": {
      "needs_background": "light"
     }
    },
    {
     "output_type": "display_data",
     "data": {
      "image/png": "[encoded data removed]",
      "text/plain": [
       "<Figure size 432x288 with 1 Axes>"
      ]
     },
     "metadata": {
      "needs_background": "light"
     }
    }
   ],
   "metadata": {}
  },
  {
   "cell_type": "code",
   "execution_count": 15,
   "source": [
    "import numpy as np\r\n",
    "sequence = tokenizer.texts_to_sequences(['this experience has been the worst , want my money back'])\r\n",
    "test = pad_sequences(sequence, maxlen=maxlen)\r\n",
    "predict = model.predict(test)\r\n",
    "print(np.around(predict, decimals=3))\r\n",
    "\r\n",
    "sequence = tokenizer.texts_to_sequences(['this data science article is the best ever'])\r\n",
    "test = pad_sequences(sequence, maxlen=maxlen)\r\n",
    "predict = model.predict(test)\r\n",
    "print(np.around(predict, decimals=3))\r\n",
    "#sentiment[np.around(predict, decimals=0).argmax(axis=1)[0]]"
   ],
   "outputs": [
    {
     "output_type": "stream",
     "name": "stdout",
     "text": [
      "[[0.342]]\n",
      "[[0.769]]\n"
     ]
    }
   ],
   "metadata": {}
  }
 ],
 "metadata": {
  "orig_nbformat": 4,
  "language_info": {
   "name": "python",
   "version": "3.9.0",
   "mimetype": "text/x-python",
   "codemirror_mode": {
    "name": "ipython",
    "version": 3
   },
   "pygments_lexer": "ipython3",
   "nbconvert_exporter": "python",
   "file_extension": ".py"
  },
  "kernelspec": {
   "name": "python3",
   "display_name": "Python 3.9.0 64-bit"
  },
  "interpreter": {
   "hash": "7c6135ec8961d9a7a91e6bf2a9a572c024e771794329222cfa63ad5fc4229083"
  }
 },
 "nbformat": 4,
 "nbformat_minor": 2
}